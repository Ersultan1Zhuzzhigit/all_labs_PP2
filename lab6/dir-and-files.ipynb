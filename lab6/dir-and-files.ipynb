{
 "cells": [
  {
   "cell_type": "markdown",
   "metadata": {},
   "source": [
    "1.Write a Python program to list only directories, files and all directories, files in a specified path."
   ]
  },
  {
   "cell_type": "code",

=======
   "execution_count": 1,
   "metadata": {},
   "outputs": [
    {
     "name": "stdout",
     "output_type": "stream",
     "text": [
      "Directories:\n",
      " []\n",
      "\n",
      "Files:\n",
      " ['built-functions.ipynb', 'c.txt', 'dir-and-files.ipynb', 'new.txt', 'old.txt']\n"
     ]
    }
   ],
>>>>>>> 6ebd1a9 (Erss)
   "source": [
    "import os\n",
    "\n",
    "path = \".\"\n",
    "items = os.listdir(path)\n",
    "\n",
    "print(\"Directories:\\n\", [d for d in items if os.path.isdir(os.path.join(path, d))])\n",
    "print()\n",
    "print(\"Files:\\n\", [f for f in items if os.path.isfile(os.path.join(path, f))])"
   ]
  },
  {
   "cell_type": "markdown",
   "metadata": {},
   "source": [
    "2.Write a Python program to check for access to a specified path. Test the existence, readability, writability and executability of the specified path"
   ]
  },
  {
   "cell_type": "code",

=======
   "execution_count": 4,
   "metadata": {},
   "outputs": [
    {
     "name": "stdout",
     "output_type": "stream",
     "text": [
      "File does not exist\n"
     ]
    }
   ],
>>>>>>> 6ebd1a9 (Erss)
   "source": [
    "\n",
    "import os\n",
    "\n",
    "path = input(\"Enter the path to your file: \")\n",
    "\n",
    "if os.access(path, os.F_OK):\n",
    "    print(\"File exists\")\n",
    "\n",
    "    print(\"readability: \", os.access(path, os.R_OK))\n",
    "    print(\"writability: \", os.access(path, os.W_OK))\n",
    "    print(\"executability: \", os.access(path, os.X_OK))\n",
    "else:\n",
    "    print(\"File does not exist\")\n"
   ]
  },
  {
   "cell_type": "markdown",
   "metadata": {},
   "source": [
    "3.Write a Python program to test whether a given path exists or not. If the path exist find the filename and directory portion of the given path."
   ]
  },
  {
   "cell_type": "code",

=======
   "execution_count": 6,
   "metadata": {},
   "outputs": [
    {
     "name": "stdout",
     "output_type": "stream",
     "text": [
      "File does not exist\n"
     ]
    }
   ],
>>>>>>> 6ebd1a9 (Erss)
   "source": [
    "import os\n",
    "\n",
    "path = input(\"Enter the path: \")\n",
    "\n",
    "if os.access(path, os.F_OK):\n",
    "    print(\"File exists\")\n",
    "\n",
    "    print(\"Direction name: \", os.path.dirname(path))\n",
    "    print(\"File name: \", os.path.basename(path))\n",
    "else:\n",
    "    print(\"File does not exist\")"
   ]
  },
  {
   "cell_type": "markdown",
   "metadata": {},
   "source": [
    "4.Write a Python program to count the number of lines in a text file."
   ]
  },
  {
   "cell_type": "code",

=======
   "execution_count": 2,
   "metadata": {},
   "outputs": [
    {
     "name": "stdout",
     "output_type": "stream",
     "text": [
      "5\n"
     ]
    }
   ],
   "source": [
    "f = open(\"B.txt\", \"r\")\n",
>>>>>>> 6ebd1a9 (Erss)
    "cnt = sum(1 for line in f)\n",
    "print(cnt)\n",
    "f.close()"
   ]
  },
  {
   "cell_type": "markdown",
   "metadata": {},
   "source": [
    "5.Write a Python program to write a list to a file."
   ]
  },
  {
   "cell_type": "code",
   "execution_count": null,
   "metadata": {},

=======
   "outputs": [
    {
     "name": "stdout",
     "output_type": "stream",
     "text": [
      "1. Write a Python program to list only directories, files and all directories, files in a specified path.\n",
      "2. Write a Python program to check for access to a specified path. Test the existence, readability, writability and executability of the specified path\n",
      "3. Write a Python program to test whether a given path exists or not. If the path exist find the filename and directory portion of the given path.\n",
      "4. Write a Python program to count the number of lines in a text file.\n",
      "5. Write a Python program to write a list to a file.\n",
      "6. Write a Python program to generate 26 text files named A.txt, B.txt, and so on up to Z.txt.\n",
      "\n"
     ]
    }
   ],
>>>>>>> 6ebd1a9 (Erss)
   "source": [
    "\n",
    "list = [\n",
    "    \"5. Write a Python program to write a list to a file.\", \n",
    "    \"6. Write a Python program to generate 26 text files named A.txt, B.txt, and so on up to Z.txt.\"\n",
    "]\n",

=======
    "f = open(\"B.txt\", \"a\")\n",
>>>>>>> 6ebd1a9 (Erss)
    "\n",
    "f.write(\"\\n\")\n",
    "for i in list:\n",
    "    f.write(i + \"\\n\")\n",
    "\n",
    "f.close()\n",
    "\n",

=======
    "f = open(\"B.txt\", \"r\")\n",
>>>>>>> 6ebd1a9 (Erss)
    "print(f.read())\n",
    "f.close()"
   ]
  },
  {
   "cell_type": "markdown",
   "metadata": {},
   "source": [
    "6.Write a Python program to generate 26 text files named A.txt, B.txt, and so on up to Z.txt"
   ]
  },
  {
   "cell_type": "code",

   "execution_count": 3,
   "metadata": {},
   "outputs": [
    {
     "ename": "FileExistsError",
     "evalue": "[Errno 17] File exists: 'B.txt'",
     "output_type": "error",
     "traceback": [
      "\u001b[1;31m---------------------------------------------------------------------------\u001b[0m",
      "\u001b[1;31mFileExistsError\u001b[0m                           Traceback (most recent call last)",
      "Cell \u001b[1;32mIn[3], line 5\u001b[0m\n\u001b[0;32m      3\u001b[0m l \u001b[38;5;241m=\u001b[39m \u001b[38;5;124m\"\u001b[39m\u001b[38;5;124mABCDEFGHIJKLMNOPQRSTUVWXYZ\u001b[39m\u001b[38;5;124m\"\u001b[39m\n\u001b[0;32m      4\u001b[0m \u001b[38;5;28;01mfor\u001b[39;00m i \u001b[38;5;129;01min\u001b[39;00m l: \n\u001b[1;32m----> 5\u001b[0m     f \u001b[38;5;241m=\u001b[39m \u001b[38;5;28;43mopen\u001b[39;49m\u001b[43m(\u001b[49m\u001b[38;5;124;43mf\u001b[39;49m\u001b[38;5;124;43m\"\u001b[39;49m\u001b[38;5;132;43;01m{\u001b[39;49;00m\u001b[43mi\u001b[49m\u001b[38;5;132;43;01m}\u001b[39;49;00m\u001b[38;5;124;43m.txt\u001b[39;49m\u001b[38;5;124;43m\"\u001b[39;49m\u001b[43m \u001b[49m\u001b[43m,\u001b[49m\u001b[43m \u001b[49m\u001b[38;5;124;43m\"\u001b[39;49m\u001b[38;5;124;43mx\u001b[39;49m\u001b[38;5;124;43m\"\u001b[39;49m\u001b[43m)\u001b[49m\n",
      "File \u001b[1;32m~\\AppData\\Roaming\\Python\\Python313\\site-packages\\IPython\\core\\interactiveshell.py:324\u001b[0m, in \u001b[0;36m_modified_open\u001b[1;34m(file, *args, **kwargs)\u001b[0m\n\u001b[0;32m    317\u001b[0m \u001b[38;5;28;01mif\u001b[39;00m file \u001b[38;5;129;01min\u001b[39;00m {\u001b[38;5;241m0\u001b[39m, \u001b[38;5;241m1\u001b[39m, \u001b[38;5;241m2\u001b[39m}:\n\u001b[0;32m    318\u001b[0m     \u001b[38;5;28;01mraise\u001b[39;00m \u001b[38;5;167;01mValueError\u001b[39;00m(\n\u001b[0;32m    319\u001b[0m         \u001b[38;5;124mf\u001b[39m\u001b[38;5;124m\"\u001b[39m\u001b[38;5;124mIPython won\u001b[39m\u001b[38;5;124m'\u001b[39m\u001b[38;5;124mt let you open fd=\u001b[39m\u001b[38;5;132;01m{\u001b[39;00mfile\u001b[38;5;132;01m}\u001b[39;00m\u001b[38;5;124m by default \u001b[39m\u001b[38;5;124m\"\u001b[39m\n\u001b[0;32m    320\u001b[0m         \u001b[38;5;124m\"\u001b[39m\u001b[38;5;124mas it is likely to crash IPython. If you know what you are doing, \u001b[39m\u001b[38;5;124m\"\u001b[39m\n\u001b[0;32m    321\u001b[0m         \u001b[38;5;124m\"\u001b[39m\u001b[38;5;124myou can use builtins\u001b[39m\u001b[38;5;124m'\u001b[39m\u001b[38;5;124m open.\u001b[39m\u001b[38;5;124m\"\u001b[39m\n\u001b[0;32m    322\u001b[0m     )\n\u001b[1;32m--> 324\u001b[0m \u001b[38;5;28;01mreturn\u001b[39;00m \u001b[43mio_open\u001b[49m\u001b[43m(\u001b[49m\u001b[43mfile\u001b[49m\u001b[43m,\u001b[49m\u001b[43m \u001b[49m\u001b[38;5;241;43m*\u001b[39;49m\u001b[43margs\u001b[49m\u001b[43m,\u001b[49m\u001b[43m \u001b[49m\u001b[38;5;241;43m*\u001b[39;49m\u001b[38;5;241;43m*\u001b[39;49m\u001b[43mkwargs\u001b[49m\u001b[43m)\u001b[49m\n",
      "\u001b[1;31mFileExistsError\u001b[0m: [Errno 17] File exists: 'B.txt'"
     ]
    }
   ],
>>>>>>> 6ebd1a9 (Erss)
   "source": [
    "import os \n",
    "\n",
    "l = \"ABCDEFGHIJKLMNOPQRSTUVWXYZ\"\n",
    "for i in l: \n",
    "    f = open(f\"{i}.txt\" , \"x\")"
   ]
  },
  {
   "cell_type": "markdown",
   "metadata": {},
   "source": [
    "7.Write a Python program to copy the contents of a file to another file"
   ]
  },
  {
   "cell_type": "code",

=======
   "execution_count": 4,
   "metadata": {},
   "outputs": [
    {
     "name": "stdout",
     "output_type": "stream",
     "text": [
      "Python Directories and Files exercisesErss ,KBTU topErss ,KBTU topPython Directories and Files exercisesPython Directories and Files exercises\n"
     ]
    }
   ],
>>>>>>> 6ebd1a9 (Erss)
   "source": [
    "old = open(\"old.txt\", \"r\")\n",
    "new = open(\"new.txt\", \"a\")\n",
    "\n",
    "new.write(old.read())\n",
    "old.close()\n",
    "new.close()\n",
    "\n",
    "new = open(\"new.txt\", \"r\")\n",
    "print(new.read())"
   ]
  },
  {
   "cell_type": "markdown",
   "metadata": {},
   "source": [
    "8.Write a Python program to delete file by specified path. Before deleting check for access and whether a given path exists or not."
   ]
  },
  {
   "cell_type": "code",

=======
   "execution_count": 5,
   "metadata": {},
   "outputs": [
    {
     "name": "stdout",
     "output_type": "stream",
     "text": [
      "The file does not exist or cannot be deleted.\n"
>>>>>>> 6ebd1a9 (Erss)
     ]
    }
   ],
   "source": [
    "import os\n",
    "\n",
    "path = input()\n",
    "\n",
    "if os.access(path, os.F_OK) and os.access(path, os.W_OK):\n",
    "    print(\"File exists and can be deleted.\")\n",
    "    os.remove(path)\n",
    "    \n",
    "else:\n",
    "    print(\"The file does not exist or cannot be deleted.\")"
   ]
  }
 ],
 "metadata": {
  "kernelspec": {
   "display_name": "Python 3",
   "language": "python",
   "name": "python3"
  },
  "language_info": {

=======
   "codemirror_mode": {
    "name": "ipython",
    "version": 3
   },
   "file_extension": ".py",
   "mimetype": "text/x-python",
   "name": "python",
   "nbconvert_exporter": "python",
   "pygments_lexer": "ipython3",
>>>>>>> 6ebd1a9 (Erss)
   "version": "3.13.0"
  }
 },
 "nbformat": 4,
 "nbformat_minor": 2
}
