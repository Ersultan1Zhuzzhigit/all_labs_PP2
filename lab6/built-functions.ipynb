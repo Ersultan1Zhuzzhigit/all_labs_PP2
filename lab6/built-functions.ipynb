{
 "cells":
=======
   "cell_type": "code",
   "execution_count": 14,
   "metadata": {},
   "outputs": [],
   "source": [
    "del list"
   ]
  },
  {
>>>>>>> 6ebd1a9 (Erss)
   "cell_type": "markdown",
   "metadata": {},
   "source": [
    "1.Write a Python program with builtin function to multiply all the numbers in a list"
   ]
  },
  {
   "cell_type": "code",

   "execution_count": null,
   "metadata": {},
   "outputs": [
    {
     "ename": "",
     "evalue": "",
     "output_type": "error",
     "traceback": [
      "\u001b[1;31mДля выполнения ячеек с \"base (Python 3.12.7)\" требуется пакет ipykernel.\n",
      "\u001b[1;31mВыполните следующую команду, чтобы установить \"ipykernel\" в среде Python. \n",
      "\u001b[1;31mКоманда: \"conda install -n base ipykernel --update-deps --force-reinstall\""
=======
   "execution_count": 15,
   "metadata": {},
   "outputs": [
    {
     "name": "stdout",
     "output_type": "stream",
     "text": [
      "6\n"
>>>>>>> 6ebd1a9 (Erss)
     ]
    }
   ],
   "source": [
    "import math\n",

    "\n",
    "list = list(map(int,input().split()))\n",
    "\n",
    "m = math.prod(list)\n",
=======
    "numbers = list(map(int,input().split()))\n",
    "\n",
    "m = math.prod(numbers)\n",
>>>>>>> 6ebd1a9 (Erss)
    "\n",
    "print(m)"
   ]
  },
  {
   "cell_type": "markdown",
   "metadata": {},
   "source": [
    "2.Write a Python program with builtin function that accepts a string and calculate the number of upper case letters and lower case letters"
   ]
  },
  {
   "cell_type": "code",

   "execution_count": null,
   "metadata": {},
   "outputs": [],
=======
   "execution_count": 16,
   "metadata": {},
   "outputs": [
    {
     "name": "stdout",
     "output_type": "stream",
     "text": [
      "There're 3 uppercase, 9 lowercase letters\n"
     ]
    }
   ],
>>>>>>> 6ebd1a9 (Erss)
   "source": [
    "txt = input()\n",
    "\n",
    "cnt_upp = sum(1 for char in txt if char.isupper())\n",
    "cnt_low = sum(1 for char in txt if char.islower())\n",
    "\n",
    "print(f\"There're {cnt_upp} uppercase, {cnt_low} lowercase letters\")"
   ]
  },
  {
   "cell_type": "markdown",
   "metadata": {},
   "source": [
    "3.Write a Python program with builtin function that checks whether a passed string is palindrome or not."
   ]
  },
  {
   "cell_type": "code",

   "execution_count": null,
   "metadata": {},
   "outputs": [],
=======
   "execution_count": 18,
   "metadata": {},
   "outputs": [
    {
     "name": "stdout",
     "output_type": "stream",
     "text": [
      "YES\n"
     ]
    }
   ],
>>>>>>> 6ebd1a9 (Erss)
   "source": [
    "txt = input()\n",
    "is_pol = txt[::-1]\n",
    "\n",
    "if is_pol == txt:\n",
    "    print(\"YES\")\n",
    "else:\n",
    "    print(\"NO\")"
   ]
  },
  {
   "cell_type": "markdown",
   "metadata": {},
   "source": [
    "4.Write a Python program that invoke square root function after specific milliseconds"
   ]
  },
  {
   "cell_type": "code",
   "execution_count": 1,
   "metadata": {},
   "outputs": [
    {
     "name": "stdout",
     "output_type": "stream",
     "text": [
      "4.0\n"
     ]
    }
   ],
   "source": [
    "import time\n",
    "import math\n",
    "\n",
    "n = int(input(\"Enter miliseconds: \"))\n",
    "t = int(input(\"Enter 2nd miliseconds: \"))\n",
    "\n",
    "time.sleep(t/1000) #секундты милискундка ауыстырам\n",
    "print(math.sqrt(n))"
   ]
  },
  {
   "cell_type": "markdown",
   "metadata": {},
   "source": [
    "5.Write a Python program with builtin function that returns True if all elements of the tuple are true."
   ]
  },
  {
   "cell_type": "code",

   "execution_count": null,
   "metadata": {},
   "outputs": [],
=======
   "execution_count": 4,
   "metadata": {},
   "outputs": [
    {
     "name": "stdout",
     "output_type": "stream",
     "text": [
      "all True mylist: False\n"
     ]
    }
   ],
>>>>>>> 6ebd1a9 (Erss)
   "source": [
    "size_mylist=input(\"Enter  mylist:\")\n",
    "mylist=list(map(int,size_mylist.split()))\n",
    "print(\"all True mylist:\",all(mylist))"
   ]
  }
 ],
 "metadata": {
  "kernelspec": {

   "display_name": "base",
=======
   "display_name": "Python 3",
>>>>>>> 6ebd1a9 (Erss)
   "language": "python",
   "name": "python3"
  },
  "language_info": {

   "name": "python",
   "version": "3.12.7"
=======
   "codemirror_mode": {
    "name": "ipython",
    "version": 3
   },
   "file_extension": ".py",
   "mimetype": "text/x-python",
   "name": "python",
   "nbconvert_exporter": "python",
   "pygments_lexer": "ipython3",
   "version": "3.13.0"
>>>>>>> 6ebd1a9 (Erss)
  }
 },
 "nbformat": 4,
 "nbformat_minor": 2
}
