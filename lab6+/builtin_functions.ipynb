{
 "cells": [
  {
   "cell_type": "markdown",
   "metadata": {},
   "source": [
    "1.Write a Python program with builtin function to multiply all the numbers in a list"
   ]
  },
  {
   "cell_type": "code",
   "execution_count": 2,
   "metadata": {},
   "outputs": [
    {
     "name": "stdout",
     "output_type": "stream",
     "text": [
      "6\n"
     ]
    }
   ],
   "source": [
    "import math\n",
    "\n",
    "n = list(map(int,input().split()))\n",
    "\n",
    "m = math.prod(n)\n",
    "\n",
    "print(m)\n"
   ]
  },
  {
   "cell_type": "markdown",
   "metadata": {},
   "source": [
    "2.Write a Python program with builtin function that accepts a string and calculate the number of upper case letters and lower case letters"
   ]
  },
  {
   "cell_type": "code",
   "execution_count": 3,
   "metadata": {},
   "outputs": [
    {
     "name": "stdout",
     "output_type": "stream",
     "text": [
      "There're 5 uppercase, 7 lowercase letters\n"
     ]
    }
   ],
   "source": [
    "txt = input()\n",
    "\n",
    "cnt_upp = sum(1 for char in txt if char.isupper())\n",
    "cnt_low = sum(1 for char in txt if char.islower())\n",
    "\n",
    "print(f\"There're {cnt_upp} uppercase, {cnt_low} lowercase letters\")"
   ]
  },
  {
   "cell_type": "markdown",
   "metadata": {},
   "source": [
    "3.Write a Python program with builtin function that checks whether a passed string is palindrome or not."
   ]
  },
  {
   "cell_type": "code",
   "execution_count": 4,
   "metadata": {},
   "outputs": [
    {
     "name": "stdout",
     "output_type": "stream",
     "text": [
      "YES\n"
     ]
    }
   ],
   "source": [
    "txt = input()\n",
    "is_pol = txt[::-1]\n",
    "\n",
    "if is_pol == txt:\n",
    "    print(\"YES\")\n",
    "else:\n",
    "    print(\"NO\")\n"
   ]
  },
  {
   "cell_type": "markdown",
   "metadata": {},
   "source": [
    "4.Write a Python program that invoke square root function after specific milliseconds"
   ]
  },
  {
   "cell_type": "code",
   "execution_count": 1,
   "metadata": {},
   "outputs": [
    {
     "name": "stdout",
     "output_type": "stream",
     "text": [
      "4.0\n"
     ]
    }
   ],
   "source": [
    "\n",
    "import time\n",
    "import math\n",
    "\n",
    "n = int(input(\"Enter a number: \"))\n",
    "t = int(input(\"Enter delay in ms: \"))\n",
    "\n",
    "time.sleep(t/1000) \n",
    "print(math.sqrt(n))\n"
   ]
  },
  {
   "cell_type": "markdown",
   "metadata": {},
   "source": [
    "5.Write a Python program with builtin function that returns True if all elements of the tuple are true."
   ]
  },
  {
   "cell_type": "code",
   "execution_count": 3,
   "metadata": {},
   "outputs": [
    {
     "name": "stdout",
     "output_type": "stream",
     "text": [
      "all  mylist: True\n"
     ]
    }
   ],
   "source": [
    "size_mylist=input(\"Enter  mylist:\")\n",
    "mylist=list(map(int,size_mylist.split()))\n",
    "print(\"all  mylist:\",all(mylist))"
   ]
  }
 ],
 "metadata": {
  "kernelspec": {
   "display_name": "Python 3",
   "language": "python",
   "name": "python3"
  },
  "language_info": {
   "codemirror_mode": {
    "name": "ipython",
    "version": 3
   },
   "file_extension": ".py",
   "mimetype": "text/x-python",
   "name": "python",
   "nbconvert_exporter": "python",
   "pygments_lexer": "ipython3",
   "version": "3.13.0"
  }
 },
 "nbformat": 4,
 "nbformat_minor": 2
}
