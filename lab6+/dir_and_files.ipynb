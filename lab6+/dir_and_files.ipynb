{
 "cells": [
  {
   "cell_type": "markdown",
   "metadata": {},
   "source": [
    "1.Write a Python program to list only directories, files and all directories, files in a specified path."
   ]
  },
  {
   "cell_type": "code",
   "execution_count": 1,
   "metadata": {},
   "outputs": [
    {
     "name": "stdout",
     "output_type": "stream",
     "text": [
      "Directories:\n",
      " []\n",
      "\n",
      "Files:\n",
      " ['builtin_functions.ipynb', 'dir_and_files.ipynb']\n"
     ]
    }
   ],
   "source": [
    "import os\n",
    "\n",
    "path = \".\"\n",
    "items = os.listdir(path)\n",
    "\n",
    "print(\"Directories:\\n\", [d for d in items if os.path.isdir(os.path.join(path, d))])\n",
    "print()\n",
    "print(\"Files:\\n\", [f for f in items if os.path.isfile(os.path.join(path, f))])"
   ]
  },
  {
   "cell_type": "markdown",
   "metadata": {},
   "source": [
    "2.Write a Python program to check for access to a specified path. Test the existence, readability, writability and executability of the specified path"
   ]
  },
  {
   "cell_type": "code",
<<<<<<< HEAD
   "execution_count": 1,
=======
   "execution_count": 2,
>>>>>>> aa8c7ac1f72a8efe203e3b73139c561beb186079
   "metadata": {},
   "outputs": [
    {
     "name": "stdout",
     "output_type": "stream",
     "text": [
<<<<<<< HEAD
      "File exists\n",
      "readability:  True\n",
      "writability:  True\n",
      "executability:  True\n"
=======
      "File does not exist\n"
>>>>>>> aa8c7ac1f72a8efe203e3b73139c561beb186079
     ]
    }
   ],
   "source": [
    "import os\n",
    "\n",
    "path = input(\"Enter the path to your file: \")\n",
    "\n",
    "if os.access(path, os.F_OK):\n",
    "    print(\"File exists\")\n",
    "\n",
    "    print(\"readability: \", os.access(path, os.R_OK))\n",
    "    print(\"writability: \", os.access(path, os.W_OK))\n",
    "    print(\"executability: \", os.access(path, os.X_OK))\n",
    "else:\n",
    "    print(\"File does not exist\")"
   ]
  },
  {
   "cell_type": "markdown",
   "metadata": {},
   "source": [
    "3.Write a Python program to test whether a given path exists or not. If the path exist find the filename and directory portion of the given path."
   ]
  },
  {
   "cell_type": "code",
   "execution_count": 3,
   "metadata": {},
   "outputs": [
    {
     "name": "stdout",
     "output_type": "stream",
     "text": [
<<<<<<< HEAD
      "File exists\n",
      "Direction name:  C:\\Users\\Er-Sultan\n",
      "File name:  Documents\n"
=======
      "File does not exist\n"
>>>>>>> aa8c7ac1f72a8efe203e3b73139c561beb186079
     ]
    }
   ],
   "source": [
    "\n",
    "import os\n",
    "\n",
    "path = input(\"Enter the path: \")\n",
    "\n",
    "if os.access(path, os.F_OK):\n",
    "    print(\"File exists\")\n",
    "\n",
    "    print(\"Direction name: \", os.path.dirname(path))\n",
    "    print(\"File name: \", os.path.basename(path))\n",
    "else:\n",
    "    print(\"File does not exist\")\n"
   ]
  },
  {
   "cell_type": "markdown",
   "metadata": {},
   "source": [
    "4.Write a Python program to count the number of lines in a text file."
   ]
  },
  {
   "cell_type": "code",
   "execution_count": 5,
   "metadata": {},
   "outputs": [
    {
     "name": "stdout",
     "output_type": "stream",
     "text": [
      "4\n"
     ]
    }
   ],
   "source": [
    "f = open(\"c.txt\", \"r\")\n",
    "cnt = sum(1 for line in f)\n",
    "print(cnt)\n",
    "f.close()"
   ]
  },
  {
   "cell_type": "markdown",
   "metadata": {},
   "source": [
    "5.Write a Python program to write a list to a file."
   ]
  },
  {
   "cell_type": "code",
   "execution_count": 6,
   "metadata": {},
   "outputs": [
    {
     "name": "stdout",
     "output_type": "stream",
     "text": [
      "1. Write a Python program to list only directories, files and all directories, files in a specified path.\n",
      "2. Write a Python program to check for access to a specified path. Test the existence, readability, writability and executability of the specified path\n",
      "3. Write a Python program to test whether a given path exists or not. If the path exist find the filename and directory portion of the given path.\n",
      "4. Write a Python program to count the number of lines in a text file.\n",
      "\n",
      "5. Write a Python program to write a list to a file.\n",
      "6. Write a Python program to generate 26 text files named A.txt, B.txt, and so on up to Z.txt.\n",
      "\n"
     ]
    }
   ],
   "source": [
    "list = [\n",
    "    \"5. Write a Python program to write a list to a file.\", \n",
    "    \"6. Write a Python program to generate 26 text files named A.txt, B.txt, and so on up to Z.txt.\"\n",
    "]\n",
    "f = open(\"c.txt\", \"a\")\n",
    "\n",
    "f.write(\"\\n\")\n",
    "for i in list:\n",
    "    f.write(i + \"\\n\")\n",
    "\n",
    "f.close()\n",
    "\n",
    "f = open(\"c.txt\", \"r\")\n",
    "print(f.read())\n",
    "f.close()\n"
   ]
  },
  {
   "cell_type": "markdown",
   "metadata": {},
   "source": [
    "6.Write a Python program to generate 26 text files named A.txt, B.txt, and so on up to Z.txt"
   ]
  },
  {
   "cell_type": "code",
   "execution_count": 8,
   "metadata": {},
   "outputs": [],
   "source": [
    "\n",
    "import os \n",
    "\n",
    "l = \"ABCDEFGHIJKLMNOPQRSTUVWXYZ\"\n",
    "for i in l: \n",
    "    f = open(f\"{i}.txt\" , \"w\")\n"
   ]
  },
  {
   "cell_type": "markdown",
   "metadata": {},
   "source": [
    "7.Write a Python program to copy the contents of a file to another file"
   ]
  },
  {
   "cell_type": "code",
   "execution_count": 9,
   "metadata": {},
   "outputs": [
    {
     "name": "stdout",
     "output_type": "stream",
     "text": [
      "Erss and KBTU top\n"
     ]
    }
   ],
   "source": [
    "old = open(\"old.txt\", \"r\")\n",
    "new = open(\"new.txt\", \"a\")\n",
    "\n",
    "new.write(old.read())\n",
    "old.close()\n",
    "new.close()\n",
    "\n",
    "new = open(\"new.txt\", \"r\")\n",
    "print(new.read())"
   ]
  },
  {
   "cell_type": "markdown",
   "metadata": {},
   "source": [
    "8.Write a Python program to delete file by specified path. Before deleting check for access and whether a given path exists or not."
   ]
  },
  {
   "cell_type": "code",
   "execution_count": 10,
   "metadata": {},
   "outputs": [
    {
     "name": "stdout",
     "output_type": "stream",
     "text": [
      "The file does not exist or cannot be deleted.\n"
     ]
    }
   ],
   "source": [
    "\n",
    "import os\n",
    "\n",
    "path = input()\n",
    "\n",
    "if os.access(path, os.F_OK) and os.access(path, os.W_OK):\n",
    "    print(\"File exists and can be deleted.\")\n",
    "    os.remove(path)\n",
    "    \n",
    "else:\n",
    "    print(\"The file does not exist or cannot be deleted.\")\n"
   ]
  }
 ],
 "metadata": {
  "kernelspec": {
   "display_name": "Python 3",
   "language": "python",
   "name": "python3"
  },
  "language_info": {
   "codemirror_mode": {
    "name": "ipython",
    "version": 3
   },
   "file_extension": ".py",
   "mimetype": "text/x-python",
   "name": "python",
   "nbconvert_exporter": "python",
   "pygments_lexer": "ipython3",
   "version": "3.13.0"
  }
 },
 "nbformat": 4,
 "nbformat_minor": 2
}
