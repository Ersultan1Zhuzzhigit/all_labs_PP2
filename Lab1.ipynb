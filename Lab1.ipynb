{
 "cells": [
  {
   "cell_type": "markdown",
   "id": "f81a5785-52c4-49dc-bd55-4faa0e5efa06",
   "metadata": {},
   "source": [
    "Python Home"
   ]
  },
  {
   "cell_type": "code",
   "execution_count": 1,
   "id": "9a18953d-b109-4c99-828c-5e894e6ef89e",
   "metadata": {},
   "outputs": [
    {
     "name": "stdout",
     "output_type": "stream",
     "text": [
      "Hello, Teacher\n"
     ]
    }
   ],
   "source": [
    "print (\"Hello, Teacher\") \n"
   ]
  },
  {
   "cell_type": "markdown",
   "id": "8546187d-ff6d-4349-8db7-ed31011fab79",
   "metadata": {},
   "source": [
    "Python syntax\n"
   ]
  },
  {
   "cell_type": "markdown",
   "id": "5b36f4b7-c5df-487b-b89e-33f32f424259",
   "metadata": {},
   "source": [
    "if 7 > 3 :\n",
    "    print(\" seven is greater than three\" )"
   ]
  },
  {
   "cell_type": "markdown",
   "id": "0ba939b7-f7d4-4100-901d-9bfe816fe34e",
   "metadata": {},
   "source": [
    "Ex:2"
   ]
  },
  {
   "cell_type": "code",
   "execution_count": 5,
   "id": "34b7fd68-1d3e-4587-a7ad-9f0bed81bc0b",
   "metadata": {},
   "outputs": [
    {
     "name": "stdout",
     "output_type": "stream",
     "text": [
      " seven is greater than three \n",
      "seven is greater than four\n"
     ]
    }
   ],
   "source": [
    "if 7 > 3 :\n",
    "    print(' seven is greater than three ')\n",
    "    if 7 > 4:\n",
    "        print( 'seven is greater than four')"
   ]
  },
  {
   "cell_type": "markdown",
   "id": "4178a9cc-c60d-454c-9293-4b6de9f71d20",
   "metadata": {},
   "source": [
    "Python Comments"
   ]
  },
  {
   "cell_type": "code",
   "execution_count": 9,
   "id": "d28953f1-91a5-44e8-aa95-42d36222e03e",
   "metadata": {},
   "outputs": [
    {
     "name": "stdout",
     "output_type": "stream",
     "text": [
      " Hello, Erss ! \n"
     ]
    }
   ],
   "source": [
    "#Erss from Kz\n",
    "print (\" Hello, Erss ! \")"
   ]
  },
  {
   "cell_type": "markdown",
   "id": "83253f56-064d-45f3-ade6-5fc2f2ec00dd",
   "metadata": {},
   "source": [
    "Ex:2"
   ]
  },
  {
   "cell_type": "code",
   "execution_count": 13,
   "id": "8cd1f652-3a0b-43e8-b493-e07e6d2a6441",
   "metadata": {},
   "outputs": [
    {
     "name": "stdout",
     "output_type": "stream",
     "text": [
      " Hi bro !\n"
     ]
    }
   ],
   "source": [
    "# Hello Teacher !\n",
    "# Hello World ! \n",
    "# yow are you !\n",
    "print (\" Hi bro !\")"
   ]
  },
  {
   "cell_type": "markdown",
   "id": "e4f910af-93cc-490c-83bb-eb9597ffb697",
   "metadata": {},
   "source": [
    "Ex:3"
   ]
  },
  {
   "cell_type": "code",
   "execution_count": 15,
   "id": "689fb1dd-94b8-4cce-958a-e504f8a60614",
   "metadata": {},
   "outputs": [
    {
     "name": "stdout",
     "output_type": "stream",
     "text": [
      "Mbappe\n"
     ]
    }
   ],
   "source": [
    "\"\"\"\n",
    "Jieere\n",
    "edofe\n",
    "dqr3r\n",
    "\"\"\"\n",
    "print ('Mbappe')\n"
   ]
  },
  {
   "cell_type": "markdown",
   "id": "f0372f4d-a8c9-48ec-82b8-e7a87a9310cf",
   "metadata": {},
   "source": [
    "Python variables"
   ]
  },
  {
   "cell_type": "code",
   "execution_count": 17,
   "id": "e5682c25-40ed-4e58-983e-c5eff1defd02",
   "metadata": {},
   "outputs": [
    {
     "name": "stdout",
     "output_type": "stream",
     "text": [
      "4\n",
      "6\n"
     ]
    }
   ],
   "source": [
    "x = 4\n",
    "y = 6\n",
    "print (x)\n",
    "print (y)"
   ]
  },
  {
   "cell_type": "markdown",
   "id": "0528c01b-50ab-4803-a0ee-465fa81fcbe1",
   "metadata": {},
   "source": [
    "EX:2"
   ]
  },
  {
   "cell_type": "code",
   "execution_count": 19,
   "id": "5d8eb7ab-38ba-4408-8b5f-675a8ac24dad",
   "metadata": {},
   "outputs": [
    {
     "name": "stdout",
     "output_type": "stream",
     "text": [
      "KBTU\n"
     ]
    }
   ],
   "source": [
    "x = 4\n",
    "x = \"KBTU\"\n",
    "print (x)"
   ]
  },
  {
   "cell_type": "markdown",
   "id": "8766d2f2-86e4-4a7c-8674-3251da107edf",
   "metadata": {},
   "source": [
    "EX:3"
   ]
  },
  {
   "cell_type": "code",
   "execution_count": 23,
   "id": "02b7d7bb-d256-4c75-92af-f74c57925865",
   "metadata": {},
   "outputs": [
    {
     "name": "stdout",
     "output_type": "stream",
     "text": [
      "4\n",
      "4\n",
      "4.0\n"
     ]
    }
   ],
   "source": [
    "x = int(4)\n",
    "y = str(4)\n",
    "z = float(4)\n",
    "print(x)\n",
    "print(y)\n",
    "print(z)"
   ]
  },
  {
   "cell_type": "markdown",
   "id": "09515b1c-638c-4ef0-ab00-6e53fc112f83",
   "metadata": {},
   "source": [
    "EX:4"
   ]
  },
  {
   "cell_type": "code",
   "execution_count": 25,
   "id": "6b840742-cacd-437b-9d47-ba9afcde0667",
   "metadata": {},
   "outputs": [
    {
     "name": "stdout",
     "output_type": "stream",
     "text": [
      "<class 'int'>\n",
      "<class 'float'>\n",
      "<class 'str'>\n"
     ]
    }
   ],
   "source": [
    "x = 7\n",
    "y = 7.0\n",
    "z = 'IT'\n",
    "print(type(x))\n",
    "print(type(y))\n",
    "print(type(z))"
   ]
  },
  {
   "cell_type": "markdown",
   "id": "1a27efa6-3549-4be8-9f82-2ea30b4ef61b",
   "metadata": {},
   "source": [
    "EX:5"
   ]
  },
  {
   "cell_type": "code",
   "execution_count": 29,
   "id": "2bc21024-8f3b-4559-8590-0600f6ef2773",
   "metadata": {},
   "outputs": [
    {
     "name": "stdout",
     "output_type": "stream",
     "text": [
      "KBTU\n"
     ]
    }
   ],
   "source": [
    "x = \"KBTU\"\n",
    "# is the same as\n",
    "x = 'KBTU'\n",
    "print(x)\n"
   ]
  },
  {
   "cell_type": "markdown",
   "id": "79ef6008-a356-4fb9-9369-de09f3e8aa31",
   "metadata": {},
   "source": [
    "EX:6"
   ]
  },
  {
   "cell_type": "code",
   "execution_count": 31,
   "id": "cc90a210-7e28-487a-b40a-fdea4cb90369",
   "metadata": {},
   "outputs": [
    {
     "name": "stdout",
     "output_type": "stream",
     "text": [
      "7\n",
      "Kazakhstan\n"
     ]
    }
   ],
   "source": [
    "a = 7\n",
    "A = 'Kazakhstan'\n",
    "print(a)\n",
    "print(A)"
   ]
  },
  {
   "cell_type": "markdown",
   "id": "5e1fe3ae-cedd-4dc5-ae84-931e3d1afe20",
   "metadata": {},
   "source": [
    "Python variable names"
   ]
  },
  {
   "cell_type": "code",
   "execution_count": 35,
   "id": "716c1e61-dbdb-4d5a-bdb9-ad6641db7269",
   "metadata": {},
   "outputs": [
    {
     "name": "stdout",
     "output_type": "stream",
     "text": [
      "Erss\n",
      "Erss\n",
      "Erss\n",
      "Erss\n",
      "Erss\n",
      "Erss\n"
     ]
    }
   ],
   "source": [
    "myname = \"Erss\"\n",
    "_myname = \"Erss\"\n",
    "my_name = \"Erss\"\n",
    "MYNAME = \"Erss\"\n",
    "Myname1 = \"Erss\"\n",
    "myName = \"Erss\"\n",
    "print(myname)\n",
    "print(_myname)\n",
    "print(my_name)\n",
    "print(MYNAME)\n",
    "print(Myname1)\n",
    "print(myName)"
   ]
  },
  {
   "cell_type": "markdown",
   "id": "0c81e15c-f611-4737-a4ff-1ece2e5f4068",
   "metadata": {},
   "source": [
    "Assign multiple values"
   ]
  },
  {
   "cell_type": "code",
   "execution_count": 39,
   "id": "f48af016-e642-46a9-95f1-6a94fc302364",
   "metadata": {},
   "outputs": [
    {
     "name": "stdout",
     "output_type": "stream",
     "text": [
      "apple\n",
      "banana\n",
      "cherry\n"
     ]
    }
   ],
   "source": [
    "x,y,z = \"apple\",\"banana\",\"cherry\"\n",
    "print (x)\n",
    "print (y)\n",
    "print (z)"
   ]
  },
  {
   "cell_type": "code",
   "execution_count": 41,
   "id": "7a31c5da-f22a-4337-ac1b-24c324fa8ea2",
   "metadata": {},
   "outputs": [
    {
     "name": "stdout",
     "output_type": "stream",
     "text": [
      "apple\n",
      "apple\n",
      "apple\n"
     ]
    }
   ],
   "source": [
    "x = y = z = \"apple\"\n",
    "print(x)\n",
    "print(y)\n",
    "print(z)"
   ]
  },
  {
   "cell_type": "code",
   "execution_count": 45,
   "id": "74991483-9325-4a3a-9ada-c300b84ab4ba",
   "metadata": {},
   "outputs": [
    {
     "name": "stdout",
     "output_type": "stream",
     "text": [
      "Real Madrid\n",
      "Barcelona\n"
     ]
    }
   ],
   "source": [
    "teams = [\"Real Madrid\", \"PSG\",\"Barcelona\"]\n",
    "x,y,z = teams\n",
    "print (x)\n",
    "print(z)\n"
   ]
  },
  {
   "cell_type": "markdown",
   "id": "906c3199-a40c-4ab5-aa0f-4cdbc9b2a003",
   "metadata": {},
   "source": [
    "Output Variables"
   ]
  },
  {
   "cell_type": "code",
   "execution_count": 47,
   "id": "0162fe85-156b-4e1c-8594-862ef73fef14",
   "metadata": {},
   "outputs": [
    {
     "name": "stdout",
     "output_type": "stream",
     "text": [
      "python is awesome\n"
     ]
    }
   ],
   "source": [
    "x = \"python is awesome\"\n",
    "print (x)"
   ]
  },
  {
   "cell_type": "code",
   "execution_count": 51,
   "id": "d4c51285-1b1c-4429-a600-19beec7bdd79",
   "metadata": {},
   "outputs": [
    {
     "name": "stdout",
     "output_type": "stream",
     "text": [
      "python  is  awesome\n"
     ]
    }
   ],
   "source": [
    "x = \"python \"\n",
    "y = \"is \"\n",
    "z = \"awesome\"\n",
    "print (x,y,z)"
   ]
  },
  {
   "cell_type": "code",
   "execution_count": 53,
   "id": "46a6a3cf-4bfd-4829-a2f9-1a4440e38647",
   "metadata": {},
   "outputs": [
    {
     "name": "stdout",
     "output_type": "stream",
     "text": [
      "python is awesome\n"
     ]
    }
   ],
   "source": [
    "x = \"python\"\n",
    "y = \"is\"\n",
    "z = \"awesome\"\n",
    "print (x,y,z)\n"
   ]
  },
  {
   "cell_type": "code",
   "execution_count": 59,
   "id": "7a492768-6964-4bb1-b2fd-606ba93e4f5f",
   "metadata": {},
   "outputs": [
    {
     "name": "stdout",
     "output_type": "stream",
     "text": [
      "python is awesome\n"
     ]
    }
   ],
   "source": [
    "x = \"python \"\n",
    "y = \"is \"\n",
    "z = \"awesome\"\n",
    "print(x + y + z)"
   ]
  },
  {
   "cell_type": "code",
   "execution_count": 61,
   "id": "a6b23dc3-23bc-487c-aecd-dc81ebe88ee1",
   "metadata": {},
   "outputs": [
    {
     "name": "stdout",
     "output_type": "stream",
     "text": [
      "25\n"
     ]
    }
   ],
   "source": [
    "x = 5\n",
    "y = 20\n",
    "print (x + y)"
   ]
  },
  {
   "cell_type": "code",
   "execution_count": 65,
   "id": "8693ebbe-a75a-4103-85c9-da8d901350ac",
   "metadata": {},
   "outputs": [
    {
     "name": "stdout",
     "output_type": "stream",
     "text": [
      "7 KBTU\n"
     ]
    }
   ],
   "source": [
    "x = 7\n",
    "y = \"KBTU\"\n",
    "print (x,y)"
   ]
  },
  {
   "cell_type": "markdown",
   "id": "2fbc2687-dcc9-4ed9-aa7c-d27e4dcd4d01",
   "metadata": {},
   "source": [
    "Global variables"
   ]
  },
  {
   "cell_type": "code",
   "execution_count": 69,
   "id": "4ba00da1-f565-47f7-9219-0473e267722d",
   "metadata": {},
   "outputs": [
    {
     "name": "stdout",
     "output_type": "stream",
     "text": [
      "Python is awesome \n"
     ]
    }
   ],
   "source": [
    "x = \"awesome \"\n",
    "\n",
    "def myFunc():\n",
    "    print (\"Python is \" + x)\n",
    "\n",
    "myFunc()"
   ]
  },
  {
   "cell_type": "code",
   "execution_count": 75,
   "id": "f3d323b7-9f6e-421a-b5e6-db0eb201a8ee",
   "metadata": {},
   "outputs": [
    {
     "name": "stdout",
     "output_type": "stream",
     "text": [
      "KBTU is fantastic\n",
      "KBTU is awesome\n"
     ]
    }
   ],
   "source": [
    "x = \"awesome\"\n",
    "\n",
    "def myFunc():\n",
    "    x = \"fantastic\"\n",
    "    print(\"KBTU is \" + x)\n",
    "\n",
    "myFunc()\n",
    "\n",
    "print (\"KBTU is \" + x )\n",
    "\n"
   ]
  },
  {
   "cell_type": "code",
   "execution_count": 83,
   "id": "087cc7b4-129c-45b1-8ffc-0e9254d81554",
   "metadata": {},
   "outputs": [
    {
     "name": "stdout",
     "output_type": "stream",
     "text": [
      "KBTU is fantastic\n"
     ]
    }
   ],
   "source": [
    "x = \"awesome\"\n",
    "\n",
    "def myFunc():\n",
    "    global x \n",
    "    x = \"fantastic\"\n",
    "\n",
    "myFunc()\n",
    "print(\"KBTU is \" + x )\n",
    "\n",
    "\n",
    "\n",
    "\n"
   ]
  },
  {
   "cell_type": "markdown",
   "id": "5f62928f-e61f-41dd-baf0-3b8ab09284eb",
   "metadata": {},
   "source": [
    "PYTHON DATA TYPES"
   ]
  },
  {
   "cell_type": "code",
   "execution_count": 85,
   "id": "35d656bf-dcae-4aad-af1d-f200e052213c",
   "metadata": {},
   "outputs": [
    {
     "name": "stdout",
     "output_type": "stream",
     "text": [
      "Hello World\n",
      "<class 'str'>\n"
     ]
    }
   ],
   "source": [
    "x = str(\"Hello World\")\n",
    "\n",
    "print(x)\n",
    "\n",
    "print(type(x))"
   ]
  },
  {
   "cell_type": "code",
   "execution_count": 87,
   "id": "72fa9837-9352-4b60-a1d6-5e7a368c8580",
   "metadata": {},
   "outputs": [
    {
     "name": "stdout",
     "output_type": "stream",
     "text": [
      "20\n",
      "<class 'int'>\n"
     ]
    }
   ],
   "source": [
    "x = int(20)\n",
    "print(x)\n",
    "print(type(x))"
   ]
  },
  {
   "cell_type": "code",
   "execution_count": 95,
   "id": "99557fac-b9ec-4d4f-af87-62c6b87ba92f",
   "metadata": {},
   "outputs": [
    {
     "name": "stdout",
     "output_type": "stream",
     "text": [
      "12.12\n",
      "<class 'float'>\n"
     ]
    }
   ],
   "source": [
    "x = float(12.12)\n",
    "print(x)\n",
    "print(type(x)) "
   ]
  },
  {
   "cell_type": "code",
   "execution_count": 93,
   "id": "5fd100cf-8350-4c6b-a3cc-d41d6432be8f",
   "metadata": {},
   "outputs": [
    {
     "name": "stdout",
     "output_type": "stream",
     "text": [
      "1j\n",
      "<class 'complex'>\n"
     ]
    }
   ],
   "source": [
    "x = complex(1j)\n",
    "print(x)\n",
    "print (type(x))\n"
   ]
  },
  {
   "cell_type": "code",
   "execution_count": 97,
   "id": "53721412-c971-449f-8bf7-efc66cd9e812",
   "metadata": {},
   "outputs": [
    {
     "name": "stdout",
     "output_type": "stream",
     "text": [
      "['apple', 'banana', 'cherry']\n",
      "<class 'list'>\n"
     ]
    }
   ],
   "source": [
    "x = list((\"apple\", \"banana\", \"cherry\"))\n",
    "print(x)\n",
    "print(type(x)) \n"
   ]
  },
  {
   "cell_type": "code",
   "execution_count": 99,
   "id": "b37c1d09-51fa-455d-8aaf-f1f00eb786cc",
   "metadata": {},
   "outputs": [
    {
     "name": "stdout",
     "output_type": "stream",
     "text": [
      "('apple', 'banana', 'cherry')\n",
      "<class 'tuple'>\n"
     ]
    }
   ],
   "source": [
    "x = tuple((\"apple\", \"banana\", \"cherry\"))\n",
    "print(x)\n",
    "print(type(x)) \n"
   ]
  },
  {
   "cell_type": "code",
   "execution_count": 101,
   "id": "4d0e9e81-7c27-4498-bf99-d993bc5edd45",
   "metadata": {},
   "outputs": [
    {
     "name": "stdout",
     "output_type": "stream",
     "text": [
      "range(0, 9)\n",
      "<class 'range'>\n"
     ]
    }
   ],
   "source": [
    "x = range(9)\n",
    "print(x)\n",
    "print(type(x)) \n"
   ]
  },
  {
   "cell_type": "code",
   "execution_count": 103,
   "id": "183976a4-d792-49b0-9b44-2b15c0c27c24",
   "metadata": {},
   "outputs": [
    {
     "name": "stdout",
     "output_type": "stream",
     "text": [
      "{'name': 'ERSS', 'age': 18}\n",
      "<class 'dict'>\n"
     ]
    }
   ],
   "source": [
    "x = dict(name=\"ERSS\", age=18)\n",
    "print(x)\n",
    "print(type(x)) \n"
   ]
  },
  {
   "cell_type": "code",
   "execution_count": 105,
   "id": "eec89456-dfc1-4740-ab6a-0a3d2b201b34",
   "metadata": {},
   "outputs": [
    {
     "name": "stdout",
     "output_type": "stream",
     "text": [
      "{'banana', 'apple', 'cherry'}\n",
      "<class 'set'>\n"
     ]
    }
   ],
   "source": [
    "x = set((\"apple\", \"banana\", \"cherry\"))\n",
    "print(x)\n",
    "print(type(x)) \n"
   ]
  },
  {
   "cell_type": "code",
   "execution_count": 107,
   "id": "9fb45516-1228-48de-b8d3-5d48827011c2",
   "metadata": {},
   "outputs": [
    {
     "name": "stdout",
     "output_type": "stream",
     "text": [
      "frozenset({'banana', 'apple', 'cherry'})\n",
      "<class 'frozenset'>\n"
     ]
    }
   ],
   "source": [
    "x = frozenset((\"apple\", \"banana\", \"cherry\"))\n",
    "print(x)\n",
    "print(type(x)) \n"
   ]
  },
  {
   "cell_type": "code",
   "execution_count": 109,
   "id": "ce953923-c41d-43a9-b0d1-da623b2f7e42",
   "metadata": {},
   "outputs": [
    {
     "name": "stdout",
     "output_type": "stream",
     "text": [
      "True\n",
      "<class 'bool'>\n"
     ]
    }
   ],
   "source": [
    "x = bool(5)\n",
    "print(x)\n",
    "print(type(x)) "
   ]
  },
  {
   "cell_type": "code",
   "execution_count": 111,
   "id": "67c182ca-e559-4c8b-b6ee-a4f99bd6f360",
   "metadata": {},
   "outputs": [
    {
     "name": "stdout",
     "output_type": "stream",
     "text": [
      "b'\\x00\\x00\\x00\\x00\\x00'\n",
      "<class 'bytes'>\n"
     ]
    }
   ],
   "source": [
    "x = bytes(5)\n",
    "print(x)\n",
    "print(type(x))"
   ]
  },
  {
   "cell_type": "code",
   "execution_count": 113,
   "id": "1694d690-1157-483b-add7-dc106bc67bf9",
   "metadata": {},
   "outputs": [
    {
     "name": "stdout",
     "output_type": "stream",
     "text": [
      "bytearray(b'\\x00\\x00\\x00\\x00\\x00')\n",
      "<class 'bytearray'>\n"
     ]
    }
   ],
   "source": [
    "x = bytearray(5)\n",
    "print(x)\n",
    "print(type(x)) \n"
   ]
  },
  {
   "cell_type": "code",
   "execution_count": 115,
   "id": "299368b0-3713-4973-a556-18fe6031abd9",
   "metadata": {},
   "outputs": [
    {
     "name": "stdout",
     "output_type": "stream",
     "text": [
      "<memory at 0x000001A24B8F62C0>\n",
      "<class 'memoryview'>\n"
     ]
    }
   ],
   "source": [
    "x = memoryview(bytes(5))\n",
    "print(x)\n",
    "print(type(x)) \n"
   ]
  },
  {
   "cell_type": "markdown",
   "id": "9f37c9f0-84c0-4ffc-8654-d054551cd059",
   "metadata": {},
   "source": [
    "Python NUMBERS"
   ]
  },
  {
   "cell_type": "code",
   "execution_count": 1,
   "id": "37dde3ba-064c-4b5b-aaa2-c90954200edb",
   "metadata": {},
   "outputs": [
    {
     "name": "stdout",
     "output_type": "stream",
     "text": [
      "<class 'int'>\n",
      "<class 'float'>\n",
      "<class 'complex'>\n"
     ]
    }
   ],
   "source": [
    "x = 1\n",
    "y = 2.2\n",
    "z = 1j\n",
    "\n",
    "print(type(x))\n",
    "print(type(y))\n",
    "print(type(z))\n"
   ]
  },
  {
   "cell_type": "code",
   "execution_count": 3,
   "id": "42422c89-7de9-4ad3-a8b6-99a986957664",
   "metadata": {},
   "outputs": [
    {
     "name": "stdout",
     "output_type": "stream",
     "text": [
      "<class 'int'>\n",
      "<class 'int'>\n",
      "<class 'int'>\n"
     ]
    }
   ],
   "source": [
    "x = 44\n",
    "y = 356562225\n",
    "z = -323445\n",
    "\n",
    "print(type(x))\n",
    "print(type(y))\n",
    "print(type(z))"
   ]
  },
  {
   "cell_type": "code",
   "execution_count": 5,
   "id": "a156c83e-77b8-40b8-b09f-d9b580607090",
   "metadata": {},
   "outputs": [
    {
     "name": "stdout",
     "output_type": "stream",
     "text": [
      "<class 'float'>\n",
      "<class 'float'>\n",
      "<class 'float'>\n"
     ]
    }
   ],
   "source": [
    "x = 1.11\n",
    "y = 1.0\n",
    "z = -12.52\n",
    "\n",
    "print(type(x))\n",
    "print(type(y))\n",
    "print(type(z))"
   ]
  },
  {
   "cell_type": "code",
   "execution_count": 7,
   "id": "472fa4ce-aec1-4539-8252-0f248dabb949",
   "metadata": {},
   "outputs": [
    {
     "name": "stdout",
     "output_type": "stream",
     "text": [
      "<class 'float'>\n",
      "<class 'float'>\n",
      "<class 'float'>\n"
     ]
    }
   ],
   "source": [
    "x = 15e3\n",
    "y = 232E4\n",
    "z = -87.7e10\n",
    "\n",
    "print(type(x))\n",
    "print(type(y))\n",
    "print(type(z))"
   ]
  },
  {
   "cell_type": "code",
   "execution_count": 9,
   "id": "92b12ed5-5799-4f42-9fd7-0102fe46f001",
   "metadata": {},
   "outputs": [
    {
     "name": "stdout",
     "output_type": "stream",
     "text": [
      "<class 'complex'>\n",
      "<class 'complex'>\n",
      "<class 'complex'>\n"
     ]
    }
   ],
   "source": [
    "x = 5 + 1j\n",
    "y = 22j\n",
    "z = - 12j\n",
    "\n",
    "print (type(x))\n",
    "print (type(y))\n",
    "print (type (z))\n"
   ]
  },
  {
   "cell_type": "code",
   "execution_count": 17,
   "id": "bf78975d-1d43-4eb4-8345-b6250576a4df",
   "metadata": {},
   "outputs": [
    {
     "name": "stdout",
     "output_type": "stream",
     "text": [
      "1.0\n",
      "2\n",
      "(1+0j)\n",
      "<class 'float'>\n",
      "<class 'int'>\n",
      "<class 'complex'>\n"
     ]
    }
   ],
   "source": [
    "x = 1\n",
    "y = 2.2\n",
    "z = 4 + 2j\n",
    "\n",
    "a = float(x)\n",
    "b = int (y)\n",
    "c = complex (x)\n",
    "\n",
    "print (a)\n",
    "print (b)\n",
    "print (c)\n",
    "\n",
    "print(type(a))\n",
    "print (type (b))\n",
    "print (type (c))\n",
    "      \n",
    "\n",
    "      "
   ]
  },
  {
   "cell_type": "code",
   "execution_count": 19,
   "id": "5e4b1763-6ea2-4952-91f1-364dcd8f09e0",
   "metadata": {},
   "outputs": [
    {
     "name": "stdout",
     "output_type": "stream",
     "text": [
      "4\n"
     ]
    }
   ],
   "source": [
    "import random\n",
    "print (random.randrange(2 ,20))"
   ]
  },
  {
   "cell_type": "markdown",
   "id": "216c8e29-17da-4b54-8179-149a39cd4caa",
   "metadata": {},
   "source": [
    "PYTHON CASTING "
   ]
  },
  {
   "cell_type": "code",
   "execution_count": 22,
   "id": "5fc3564a-9858-44dc-b8cd-61e0d040475e",
   "metadata": {},
   "outputs": [
    {
     "name": "stdout",
     "output_type": "stream",
     "text": [
      "2\n",
      "2\n",
      "2\n"
     ]
    }
   ],
   "source": [
    "x = int(2)\n",
    "y = int(2.4)\n",
    "z = int(\"2\")\n",
    "print(x)\n",
    "print(y)\n",
    "print(z)"
   ]
  },
  {
   "cell_type": "code",
   "execution_count": 24,
   "id": "f993bed9-1683-475b-a337-d9867f6adb8a",
   "metadata": {},
   "outputs": [
    {
     "name": "stdout",
     "output_type": "stream",
     "text": [
      "4.0\n",
      "4.8\n",
      "5.0\n",
      "22.2\n"
     ]
    }
   ],
   "source": [
    "x = float(4)\n",
    "y = float(4.8)\n",
    "z = float(\"5\")\n",
    "w = float(\"22.2\")\n",
    "print(x)\n",
    "print(y)\n",
    "print(z)\n",
    "print(w)"
   ]
  },
  {
   "cell_type": "code",
   "execution_count": 28,
   "id": "bfb8fd0b-2567-4df1-9e93-f3d4a6d95120",
   "metadata": {},
   "outputs": [
    {
     "name": "stdout",
     "output_type": "stream",
     "text": [
      "33\n",
      "32.0\n",
      "31\n"
     ]
    }
   ],
   "source": [
    "x = str(\"33\")\n",
    "y = str(32.0)\n",
    "z = str(31)\n",
    "print (x)\n",
    "print (y)\n",
    "print (z)"
   ]
  },
  {
   "cell_type": "markdown",
   "id": "00c6a77a-34f5-4b90-bf77-826a5874da6f",
   "metadata": {},
   "source": [
    "PYTHON STRINGS"
   ]
  },
  {
   "cell_type": "code",
   "execution_count": 30,
   "id": "da9c7173-304f-4348-a313-aa8734cb4131",
   "metadata": {},
   "outputs": [
    {
     "name": "stdout",
     "output_type": "stream",
     "text": [
      "Hello\n",
      "Hello\n"
     ]
    }
   ],
   "source": [
    "print(\"Hello\")\n",
    "print('Hello')"
   ]
  },
  {
   "cell_type": "code",
   "execution_count": 32,
   "id": "8c7c5060-2c82-4f96-8500-cac2e122c154",
   "metadata": {},
   "outputs": [
    {
     "name": "stdout",
     "output_type": "stream",
     "text": [
      "It's alright\n",
      "He is called 'Erss'\n",
      "He is called \"Erss\"\n"
     ]
    }
   ],
   "source": [
    "print(\"It's alright\")\n",
    "print(\"He is called 'Erss'\")\n",
    "print('He is called \"Erss\"')\n"
   ]
  },
  {
   "cell_type": "code",
   "execution_count": 34,
   "id": "f5ed08b9-f177-485a-93da-2055f208f1cd",
   "metadata": {},
   "outputs": [
    {
     "name": "stdout",
     "output_type": "stream",
     "text": [
      " HELLO\n"
     ]
    }
   ],
   "source": [
    "x = \" HELLO\" \n",
    "print (x)\n"
   ]
  },
  {
   "cell_type": "code",
   "execution_count": 36,
   "id": "2a266f30-d03a-49d2-b776-d6d76fda40eb",
   "metadata": {},
   "outputs": [
    {
     "name": "stdout",
     "output_type": "stream",
     "text": [
      "Lorem ipsum dolor sit amet,\n",
      "consectetur adipiscing elit,\n",
      "sed do eiusmod tempor incididunt\n",
      "ut labore et dolore magna aliqua.\n"
     ]
    }
   ],
   "source": [
    "a = \"\"\"Lorem ipsum dolor sit amet,\n",
    "consectetur adipiscing elit,\n",
    "sed do eiusmod tempor incididunt\n",
    "ut labore et dolore magna aliqua.\"\"\"\n",
    "print(a)"
   ]
  },
  {
   "cell_type": "code",
   "execution_count": 38,
   "id": "a48f5522-5608-4eda-9bfe-84a2d69c5ee1",
   "metadata": {},
   "outputs": [
    {
     "name": "stdout",
     "output_type": "stream",
     "text": [
      "Lorem ipsum dolor sit amet,\n",
      "consectetur adipiscing elit,\n",
      "sed do eiusmod tempor incididunt\n",
      "ut labore et dolore magna aliqua.\n"
     ]
    }
   ],
   "source": [
    "a = '''Lorem ipsum dolor sit amet,\n",
    "consectetur adipiscing elit,\n",
    "sed do eiusmod tempor incididunt\n",
    "ut labore et dolore magna aliqua.'''\n",
    "print(a)"
   ]
  },
  {
   "cell_type": "code",
   "execution_count": 40,
   "id": "9912be5e-997f-421e-9350-0d2b48e06d3e",
   "metadata": {},
   "outputs": [
    {
     "name": "stdout",
     "output_type": "stream",
     "text": [
      "i\n"
     ]
    }
   ],
   "source": [
    "x = \"Hi,guys\"\n",
    "print (x[1])"
   ]
  },
  {
   "cell_type": "code",
   "execution_count": 42,
   "id": "cb342d1f-c720-4c9a-b44b-a0295dbcda1e",
   "metadata": {},
   "outputs": [
    {
     "name": "stdout",
     "output_type": "stream",
     "text": [
      "a\n",
      "p\n",
      "p\n",
      "l\n",
      "e\n"
     ]
    }
   ],
   "source": [
    "for x in \"apple\":\n",
    "    print(x)\n"
   ]
  },
  {
   "cell_type": "code",
   "execution_count": 46,
   "id": "a2c3204a-ab62-4fed-aa16-1a01f5cb5e3b",
   "metadata": {},
   "outputs": [
    {
     "name": "stdout",
     "output_type": "stream",
     "text": [
      "7\n"
     ]
    }
   ],
   "source": [
    "x = \"Hi,guys\"\n",
    "print (len(x))"
   ]
  },
  {
   "cell_type": "code",
   "execution_count": 48,
   "id": "223cdf85-b852-4b81-8449-151585cf9fc2",
   "metadata": {},
   "outputs": [
    {
     "name": "stdout",
     "output_type": "stream",
     "text": [
      "True\n"
     ]
    }
   ],
   "source": [
    "txt = \"Ers from Zhetisay\"\n",
    "print ( \"Zhetisay\" in txt)"
   ]
  },
  {
   "cell_type": "code",
   "execution_count": 64,
   "id": "5e55bff4-71c0-4e81-af94-3a2bca9058ab",
   "metadata": {},
   "outputs": [
    {
     "name": "stdout",
     "output_type": "stream",
     "text": [
      "Yes, 'free' is present.\n"
     ]
    }
   ],
   "source": [
    "txt = \"The best things in life are free!\"\n",
    "if \"free\" in txt:\n",
    "  print(\"Yes, 'free' is present.\")\n"
   ]
  },
  {
   "cell_type": "code",
   "execution_count": 66,
   "id": "199bb6fa-74d0-4d2d-9af4-d4d9be4d5837",
   "metadata": {},
   "outputs": [
    {
     "name": "stdout",
     "output_type": "stream",
     "text": [
      "True\n"
     ]
    }
   ],
   "source": [
    "txt = \"The best things in life are free!\"\n",
    "print(\"expensve\" not in txt)"
   ]
  },
  {
   "cell_type": "code",
   "execution_count": 68,
   "id": "f9bf1728-a66d-46e1-bfa7-ea4e29c5fd37",
   "metadata": {},
   "outputs": [
    {
     "name": "stdout",
     "output_type": "stream",
     "text": [
      "No, 'expensive' is NOT present.\n"
     ]
    }
   ],
   "source": [
    "txt = \"The best things in life are free!\"\n",
    "if \"expensive\" not in txt:\n",
    "  print(\"No, 'expensive' is NOT present.\")"
   ]
  },
  {
   "cell_type": "markdown",
   "id": "4c8f4ea1-7ec4-43ec-bace-7e1e37b42be4",
   "metadata": {},
   "source": [
    "Python - Slicing Strings"
   ]
  },
  {
   "cell_type": "code",
   "execution_count": 70,
   "id": "7e5f6567-f48a-478c-b3c7-7f5fde597707",
   "metadata": {},
   "outputs": [
    {
     "name": "stdout",
     "output_type": "stream",
     "text": [
      "llo\n"
     ]
    }
   ],
   "source": [
    "x = \"Hello, World!\"\n",
    "print(x[2:5])"
   ]
  },
  {
   "cell_type": "code",
   "execution_count": 74,
   "id": "e2540f39-d9f5-41a7-bbeb-095b51fa84f9",
   "metadata": {},
   "outputs": [
    {
     "name": "stdout",
     "output_type": "stream",
     "text": [
      "Hello\n"
     ]
    }
   ],
   "source": [
    "x = \"Hello,KBTU!\"\n",
    "print (x[:5])"
   ]
  },
  {
   "cell_type": "code",
   "execution_count": 76,
   "id": "183b4ee2-da99-4375-a148-7a32ab352f7e",
   "metadata": {},
   "outputs": [
    {
     "name": "stdout",
     "output_type": "stream",
     "text": [
      "llo,KBTU!\n"
     ]
    }
   ],
   "source": [
    "x = \"Hello,KBTU!\"\n",
    "print (x[2:])"
   ]
  },
  {
   "cell_type": "code",
   "execution_count": 78,
   "id": "716bde28-380b-43d4-9491-62c18f0b0a87",
   "metadata": {},
   "outputs": [
    {
     "name": "stdout",
     "output_type": "stream",
     "text": [
      "orl\n"
     ]
    }
   ],
   "source": [
    "x = \"Hello, World!\"\n",
    "print(x[-5:-2])\n"
   ]
  },
  {
   "cell_type": "markdown",
   "id": "76dd45a5-bb4b-40cc-8cb4-48dc9ec998fc",
   "metadata": {},
   "source": [
    "Python - Modify Strings"
   ]
  },
  {
   "cell_type": "code",
   "execution_count": 80,
   "id": "2a35260a-8768-4631-8329-47424bc75255",
   "metadata": {},
   "outputs": [
    {
     "name": "stdout",
     "output_type": "stream",
     "text": [
      "HELLO, WORLD!\n"
     ]
    }
   ],
   "source": [
    "a = \"Hello, World!\"\n",
    "print(a.upper())"
   ]
  },
  {
   "cell_type": "code",
   "execution_count": 84,
   "id": "0bd7b817-c253-4f3a-a79b-3fa881f2f44d",
   "metadata": {},
   "outputs": [
    {
     "name": "stdout",
     "output_type": "stream",
     "text": [
      "hello, kbtu !\n"
     ]
    }
   ],
   "source": [
    "x = \"Hello, KBTU !\"\n",
    "print (x.lower())"
   ]
  },
  {
   "cell_type": "code",
   "execution_count": 86,
   "id": "f3afebcc-5563-4945-b2d2-9e497c763ef8",
   "metadata": {},
   "outputs": [
    {
     "name": "stdout",
     "output_type": "stream",
     "text": [
      "Erss\n"
     ]
    }
   ],
   "source": [
    "x = \"  Erss \"\n",
    "print (x.strip())"
   ]
  },
  {
   "cell_type": "code",
   "execution_count": 92,
   "id": "f07dcc9f-209f-4667-8330-3a08260d2dcf",
   "metadata": {},
   "outputs": [
    {
     "name": "stdout",
     "output_type": "stream",
     "text": [
      " Hello AZ! \n"
     ]
    }
   ],
   "source": [
    "x = \" Hello KZ! \"\n",
    "print (x.replace(\"K\" , \"A\"))"
   ]
  },
  {
   "cell_type": "code",
   "execution_count": 96,
   "id": "2f7b23d1-929b-4120-b039-4fa3bba9de99",
   "metadata": {},
   "outputs": [
    {
     "name": "stdout",
     "output_type": "stream",
     "text": [
      "[' Hello KBTU! exe']\n"
     ]
    }
   ],
   "source": [
    "x = \" Hello KBTU! exe\"\n",
    "print (x.split(\",\"))"
   ]
  },
  {
   "cell_type": "markdown",
   "id": "7848088d-dc05-48ea-a3b2-31884de1b4c1",
   "metadata": {},
   "source": [
    "Python - String Concatenation"
   ]
  },
  {
   "cell_type": "code",
   "execution_count": 98,
   "id": "992112a9-0ab4-4e60-8a1a-64d9407263c8",
   "metadata": {},
   "outputs": [
    {
     "name": "stdout",
     "output_type": "stream",
     "text": [
      "HelloWorld\n"
     ]
    }
   ],
   "source": [
    "a = \"Hello\"\n",
    "b = \"World\"\n",
    "c = a + b\n",
    "print(c)"
   ]
  },
  {
   "cell_type": "code",
   "execution_count": 100,
   "id": "e23b22ae-22fb-4b13-ada4-dc721df1cb01",
   "metadata": {},
   "outputs": [
    {
     "name": "stdout",
     "output_type": "stream",
     "text": [
      "Hello World\n"
     ]
    }
   ],
   "source": [
    "a = \"Hello\"\n",
    "b = \"World\"\n",
    "c = a + \" \" + b\n",
    "print(c)"
   ]
  },
  {
   "cell_type": "markdown",
   "id": "de443b57-ee69-4879-895c-359ebc56f303",
   "metadata": {},
   "source": [
    "Python - Format - Strings\n"
   ]
  },
  {
   "cell_type": "code",
   "execution_count": 106,
   "id": "f6a0da99-ec48-49b5-a9d0-d3b7b394809d",
   "metadata": {},
   "outputs": [
    {
     "name": "stdout",
     "output_type": "stream",
     "text": [
      "My name is Erss, I am 18\n"
     ]
    }
   ],
   "source": [
    "age = 18\n",
    "txt = f\"My name is Erss, I am {age}\"\n",
    "print(txt)"
   ]
  },
  {
   "cell_type": "code",
   "execution_count": 108,
   "id": "441f37b4-a7bd-4df5-80c3-7e6bd7ad9881",
   "metadata": {},
   "outputs": [
    {
     "name": "stdout",
     "output_type": "stream",
     "text": [
      "The price is 77 dollars\n"
     ]
    }
   ],
   "source": [
    "price = 77\n",
    "txt = f\"The price is {price} dollars\"\n",
    "print (txt)"
   ]
  },
  {
   "cell_type": "code",
   "execution_count": 110,
   "id": "d6000c9a-ed45-4de6-85a2-b1a8fe9f954c",
   "metadata": {},
   "outputs": [
    {
     "name": "stdout",
     "output_type": "stream",
     "text": [
      "The price is 5200 dollars\n"
     ]
    }
   ],
   "source": [
    "txt = f\"The price is {10 * 520} dollars\"\n",
    "print(txt)"
   ]
  },
  {
   "cell_type": "markdown",
   "id": "955af7e2-00a6-4fbc-977b-75c4e34ef2ae",
   "metadata": {},
   "source": [
    "Python - Escape Characters\n"
   ]
  },
  {
   "cell_type": "code",
   "execution_count": 112,
   "id": "0e0115e2-e42f-460b-9642-87cb8ec7f57d",
   "metadata": {},
   "outputs": [
    {
     "name": "stdout",
     "output_type": "stream",
     "text": [
      "It's alright.\n"
     ]
    }
   ],
   "source": [
    "txt = 'It\\'s alright.'\n",
    "print(txt)"
   ]
  },
  {
   "cell_type": "code",
   "execution_count": 114,
   "id": "cadf432b-0f73-4871-9982-3fd4fdbcd333",
   "metadata": {},
   "outputs": [
    {
     "name": "stdout",
     "output_type": "stream",
     "text": [
      "This will insert one \\ (backslash).\n"
     ]
    }
   ],
   "source": [
    "txt = \"This will insert one \\\\ (backslash).\"\n",
    "print(txt) \n"
   ]
  },
  {
   "cell_type": "code",
   "execution_count": 116,
   "id": "67e0b521-c515-4282-a107-ff4afdc2dfa5",
   "metadata": {},
   "outputs": [
    {
     "name": "stdout",
     "output_type": "stream",
     "text": [
      "Hello\n",
      "World!\n"
     ]
    }
   ],
   "source": [
    "txt = \"Hello\\nWorld!\"\n",
    "print(txt) "
   ]
  },
  {
   "cell_type": "code",
   "execution_count": 124,
   "id": "114083af-6ccb-4fbb-9bfc-acd951eafff6",
   "metadata": {},
   "outputs": [
    {
     "name": "stdout",
     "output_type": "stream",
     "text": [
      "Hello\tWorld!\n"
     ]
    }
   ],
   "source": [
    "txt = \"Hello\\tWorld!\"\n",
    "print(txt) "
   ]
  },
  {
   "cell_type": "code",
   "execution_count": 126,
   "id": "5e77dee2-6c4f-4324-afab-802c90707a8b",
   "metadata": {},
   "outputs": [
    {
     "name": "stdout",
     "output_type": "stream",
     "text": [
      "World!\n"
     ]
    }
   ],
   "source": [
    "txt = \"Hello\\rWorld!\"\n",
    "print(txt) "
   ]
  },
  {
   "cell_type": "code",
   "execution_count": 128,
   "id": "64559701-9b1b-47b5-8e10-f8b02936487a",
   "metadata": {},
   "outputs": [
    {
     "name": "stdout",
     "output_type": "stream",
     "text": [
      "HelloWorld!\n"
     ]
    }
   ],
   "source": [
    "txt = \"Hello \\bWorld!\"\n",
    "print(txt) "
   ]
  },
  {
   "cell_type": "markdown",
   "id": "d7d372b0-8574-4038-839e-28f81c2d6292",
   "metadata": {},
   "source": [
    "String Methods"
   ]
  },
  {
   "cell_type": "code",
   "execution_count": 134,
   "id": "c32aa7e8-a81a-48f3-99fe-318e82928df8",
   "metadata": {},
   "outputs": [
    {
     "name": "stdout",
     "output_type": "stream",
     "text": [
      "Hello teacher ! \n"
     ]
    }
   ],
   "source": [
    "txt = \"hello teacher ! \"\n",
    "x = txt.capitalize()\n",
    "print (x)"
   ]
  },
  {
   "cell_type": "code",
   "execution_count": 138,
   "id": "29de750f-99be-4cdf-b95e-f5469791cd81",
   "metadata": {},
   "outputs": [
    {
     "name": "stdout",
     "output_type": "stream",
     "text": [
      "hello teacher i am from zhetisay\n"
     ]
    }
   ],
   "source": [
    "txt = \"Hello Teacher I am From Zhetisay\"\n",
    "x = txt.casefold()\n",
    "print (x)"
   ]
  },
  {
   "cell_type": "code",
   "execution_count": 144,
   "id": "1d9df4da-b148-4997-bb46-73ab269cc7c4",
   "metadata": {},
   "outputs": [
    {
     "name": "stdout",
     "output_type": "stream",
     "text": [
      "        Er-Sultan        \n"
     ]
    }
   ],
   "source": [
    "txt = \"Er-Sultan\"\n",
    "x = txt.center (25)\n",
    "print (x)"
   ]
  },
  {
   "cell_type": "code",
   "execution_count": 152,
   "id": "32c10a99-8c69-4c4c-854f-a726e2bed7df",
   "metadata": {},
   "outputs": [
    {
     "name": "stdout",
     "output_type": "stream",
     "text": [
      "xxxxxEr-Sultan xxxxx\n"
     ]
    }
   ],
   "source": [
    "txt = \"Er-Sultan \"\n",
    "x = txt.center(20,\"x\")\n",
    "print(x)"
   ]
  },
  {
   "cell_type": "code",
   "execution_count": 154,
   "id": "7ebfcd95-1984-496f-b88a-0ed724257f47",
   "metadata": {},
   "outputs": [
    {
     "name": "stdout",
     "output_type": "stream",
     "text": [
      "2\n"
     ]
    }
   ],
   "source": [
    "txt = \"Kbtu is the best university of Kz, Kbtu number one!\"\n",
    "x = txt.count(\"Kbtu\")\n",
    "print (x)"
   ]
  },
  {
   "cell_type": "code",
   "execution_count": 156,
   "id": "93dd2717-3574-44e2-a647-6a70ebb0361a",
   "metadata": {},
   "outputs": [
    {
     "name": "stdout",
     "output_type": "stream",
     "text": [
      "1\n"
     ]
    }
   ],
   "source": [
    "txt = \"Kbtu is the best university of Kz, Kbtu number one!\"\n",
    "x = txt.count(\"Kbtu\" ,11 , 50)\n",
    "print (x)"
   ]
  },
  {
   "cell_type": "code",
   "execution_count": null,
   "id": "db75e049-a45b-4de1-8dfe-0e339f62fc86",
   "metadata": {},
   "outputs": [],
   "source": []
  }
 ],
 "metadata": {
  "kernelspec": {
   "display_name": "Python [conda env:base] *",
   "language": "python",
   "name": "conda-base-py"
  },
  "language_info": {
   "codemirror_mode": {
    "name": "ipython",
    "version": 3
   },
   "file_extension": ".py",
   "mimetype": "text/x-python",
   "name": "python",
   "nbconvert_exporter": "python",
   "pygments_lexer": "ipython3",
   "version": "3.12.7"
  }
 },
 "nbformat": 4,
 "nbformat_minor": 5
}
