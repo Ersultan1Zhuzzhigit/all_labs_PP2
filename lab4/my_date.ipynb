{
 "cells": [
  {
   "cell_type": "code",
   "execution_count": 7,
   "metadata": {},
   "outputs": [
    {
     "name": "stdout",
     "output_type": "stream",
     "text": [
      "this is today : 2025-02-18 15:12:08.808628\n",
      "this is new date : 2025-02-13 15:12:08.808628\n"
     ]
    }
   ],
   "source": [
    "from datetime import datetime,timedelta\n",
    "\n",
    "today = datetime.today()\n",
    "newDate = today - timedelta (days = 5)\n",
    "\n",
    "print(f\"this is today : {today}\")\n",
    "print(f\"this is new date : {newDate}\")"
   ]
  },
  {
   "cell_type": "markdown",
   "metadata": {},
   "source": [
    "2.Write a Python program to print yesterday, today, tomorrow"
   ]
  },
  {
   "cell_type": "code",
   "execution_count": 13,
   "metadata": {},
   "outputs": [
    {
     "name": "stdout",
     "output_type": "stream",
     "text": [
      "2025-02-18 15:28:49.185304\n",
      "2025-02-17 15:28:49.185304\n",
      "2025-02-19 15:28:49.185304\n"
     ]
    }
   ],
   "source": [
    "from datetime import datetime ,timedelta\n",
    "\n",
    "today = datetime.now()\n",
    "yesterday = today - timedelta(days = 1)\n",
    "tomorrow = today + timedelta(days = 1)\n",
    "\n",
    "print(today)\n",
    "print(yesterday)\n",
    "print(tomorrow)"
   ]
  },
  {
   "cell_type": "markdown",
   "metadata": {},
   "source": [
    "3.Write a Python program to drop microseconds from datetime."
   ]
  },
  {
   "cell_type": "code",
   "execution_count": 15,
   "metadata": {},
   "outputs": [
    {
     "name": "stdout",
     "output_type": "stream",
     "text": [
      "2 days, 0:00:00\n"
     ]
    }
   ],
   "source": [
    "from datetime import datetime ,timedelta\n",
    "day1 = datetime.now() + timedelta(days=2)\n",
    "day2 = datetime.now()\n",
    "\n",
    "dif = day1.replace(microsecond=0) - day2.replace(microsecond=0)\n",
    "\n",
    "\n",
    "print(dif)"
   ]
  },
  {
   "cell_type": "markdown",
   "metadata": {},
   "source": [
    "4.Write a Python program to calculate two date difference in seconds."
   ]
  },
  {
   "cell_type": "code",
   "execution_count": 18,
   "metadata": {},
   "outputs": [
    {
     "name": "stdout",
     "output_type": "stream",
     "text": [
      "172799.999967\n"
     ]
    }
   ],
   "source": [
    "from datetime import datetime ,timedelta\n",
    "data1 = datetime.now() + timedelta (days = 22)\n",
    "data2 = datetime.now() + timedelta(days = 20)\n",
    "\n",
    "dif = data1- data2\n",
    "print (dif.total_seconds())"
   ]
  }
 ],
 "metadata": {
  "kernelspec": {
   "display_name": "Python 3",
   "language": "python",
   "name": "python3"
  },
  "language_info": {
   "codemirror_mode": {
    "name": "ipython",
    "version": 3
   },
   "file_extension": ".py",
   "mimetype": "text/x-python",
   "name": "python",
   "nbconvert_exporter": "python",
   "pygments_lexer": "ipython3",
   "version": "3.13.0"
  }
 },
 "nbformat": 4,
 "nbformat_minor": 2
}
